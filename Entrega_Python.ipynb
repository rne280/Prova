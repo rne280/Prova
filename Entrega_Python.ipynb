{
 "cells": [
  {
   "cell_type": "markdown",
   "id": "8988da5a-e17a-4b24-9876-920f4bd1b66d",
   "metadata": {},
   "source": [
    "1. Realizar una función que recibe 3 números (d, m, a) que representan una fecha (día,\n",
    "mes y año). El programa debe devolver el día (la fecha) siguiente a la recibida por\n",
    "parámetro. Se debe tener en cuenta los días de cada mes y los años bisiestos."
   ]
  },
  {
   "cell_type": "code",
   "execution_count": 4,
   "id": "249bef39-5dc6-4fd0-998c-6d795309fe0e",
   "metadata": {},
   "outputs": [
    {
     "name": "stdout",
     "output_type": "stream",
     "text": [
      "Fecha siguiente: 12/9/2001\n"
     ]
    }
   ],
   "source": [
    "   \n",
    "def es_bisiesto(anyo): ##Definimos funcion para evaluar si el anyo es bisiesto\n",
    "    bisiesto=False ##Booleano que analizamos en la siguiente función \n",
    "    if (anyo % 4 == 0 and anyo % 100 != 0) or (anyo % 400 == 0): \n",
    "        bisiesto=True\n",
    "    return bisiesto\n",
    "    \n",
    "def un_dia_mas(d,m,a):\n",
    "    dias_por_mes = [31, 28, 31, 30, 31, 30, 31, 31, 30, 31, 30, 31] ##Vector inicial con los dias de cada mes\n",
    "    \n",
    "    if es_bisiesto(a): ##Evaluamos la condicion de que el año sea bisiesto\n",
    "        dias_por_mes[1] = 29\n",
    "        \n",
    "    d+=1\n",
    "    \n",
    "    if d > dias_por_mes[m - 1]:\n",
    "        d = 1  # Reseteamos el día a 1\n",
    "        m += 1  # Incrementamos el mes\n",
    "        \n",
    "        # Verificamos si cambiamos de anyo\n",
    "        if m > 12:\n",
    "            m = 1  # Reseteamos el mes a enero\n",
    "            a += 1  # Incrementamos el año\n",
    "    \n",
    "    return d, m, a\n",
    "    \n",
    "dia, mes, anio = 11, 9, 2001\n",
    "siguiente_dia, siguiente_mes, siguiente_anio = un_dia_mas(dia, mes, anio)\n",
    "print(f\"Fecha siguiente: {siguiente_dia}/{siguiente_mes}/{siguiente_anio}\")\n",
    "\n"
   ]
  },
  {
   "cell_type": "markdown",
   "id": "f9f59004-0496-4e87-ade3-d6c50aace7f9",
   "metadata": {},
   "source": [
    "2. Dada la siguiente lista: palabras_espanol = [\"Perro\", \"Gato\", \"Casa\", \"Coche\",\n",
    "\"Árbol\", \"Sol\", \"Luna\", \"Mar\", \"Montaña\", \"Río\",\n",
    "\"Playa\", \"Libro\", \"Computadora\", \"Teléfono\",\n",
    "\"Amigo\", \"Familia\", \"Trabajo\", \"Comida\", \"Película\",\n",
    "\"Música\", \"Viaje\", \"Deporte\", \"Juego\", \"Amor\", \"Odio\",\n",
    "\"Felicidad\", \"Tristeza\", \"Alegría\", \"Dolor\", \"Sueño\",\"Noche\", \"Día\", \"Agua\", \"Fuego\", \"Aire\", \"Tierra\",\n",
    "\"Cielo\", \"Estrella\", \"Flor\", \"Fruta\", \"Verdura\",\n",
    "\"Chocolate\", \"Café\", \"Té\", \"Vino\", \"Cerveza\",\n",
    "\"Dinero\", \"Tiempo\", \"Reloj\", \"Reloj\"] Construye un programa que muestre por pantalla cuantas veces aparece cada una\n",
    "de ellas."
   ]
  },
  {
   "cell_type": "code",
   "execution_count": 13,
   "id": "af71a2b8-7443-41d8-afbc-da89bebb6880",
   "metadata": {},
   "outputs": [
    {
     "name": "stdout",
     "output_type": "stream",
     "text": [
      "Perro: 1\n",
      "Gato: 1\n",
      "Casa: 1\n",
      "Coche: 1\n",
      "Árbol: 1\n",
      "Sol: 1\n",
      "Luna: 1\n",
      "Mar: 1\n",
      "Montaña: 1\n",
      "Río: 1\n",
      "Playa: 1\n",
      "Libro: 1\n",
      "Computadora: 1\n",
      "Teléfono: 1\n",
      "Amigo: 1\n",
      "Familia: 1\n",
      "Trabajo: 1\n",
      "Comida: 1\n",
      "Película: 1\n",
      "Música: 1\n",
      "Viaje: 1\n",
      "Deporte: 1\n",
      "Juego: 1\n",
      "Amor: 1\n",
      "Odio: 1\n",
      "Felicidad: 1\n",
      "Tristeza: 1\n",
      "Alegría: 1\n",
      "Dolor: 1\n",
      "Sueño: 1\n",
      "Noche: 1\n",
      "Día: 1\n",
      "Agua: 1\n",
      "Fuego: 1\n",
      "Aire: 1\n",
      "Tierra: 1\n",
      "Cielo: 1\n",
      "Estrella: 1\n",
      "Flor: 1\n",
      "Fruta: 1\n",
      "Verdura: 1\n",
      "Chocolate: 1\n",
      "Café: 1\n",
      "Té: 1\n",
      "Vino: 1\n",
      "Cerveza: 1\n",
      "Dinero: 1\n",
      "Tiempo: 1\n",
      "Reloj: 2\n"
     ]
    }
   ],
   "source": [
    "# Lista de palabras\n",
    "palabras_espanol = [\"Perro\", \"Gato\", \"Casa\", \"Coche\", \"Árbol\", \"Sol\", \"Luna\", \"Mar\", \"Montaña\", \"Río\", \"Playa\", \n",
    "                    \"Libro\", \"Computadora\", \"Teléfono\", \"Amigo\", \"Familia\", \"Trabajo\", \"Comida\", \"Película\", \"Música\", \n",
    "                    \"Viaje\", \"Deporte\", \"Juego\", \"Amor\", \"Odio\", \"Felicidad\", \"Tristeza\", \"Alegría\", \"Dolor\", \n",
    "                    \"Sueño\", \"Noche\", \"Día\", \"Agua\", \"Fuego\", \"Aire\", \"Tierra\", \"Cielo\", \"Estrella\", \"Flor\", \n",
    "                    \"Fruta\", \"Verdura\", \"Chocolate\", \"Café\", \"Té\", \"Vino\", \"Cerveza\", \"Dinero\", \"Tiempo\", \"Reloj\", \n",
    "                    \"Reloj\"]\n",
    "\n",
    "cont_palabras = {} # Creamos un diccionario para contar apariciones de cada palabra\n",
    "\n",
    "for pal in palabras_espanol: ## Contamos cada palabra en la lista, \"pal\" es un indice que recorre la lista de palabras\n",
    "    if pal in cont_palabras: ##Para cada palabra, mira si ya existe como clave en el diccionario\n",
    "        cont_palabras[pal] += 1  ##Si ya esxiste aumenta en 1 el contador\n",
    "    else:\n",
    "        cont_palabras[pal] = 1    ##En caso contrario se cuenta la palabra\n",
    "\n",
    "\n",
    "for pal, cont in cont_palabras.items(): # Mostramos el resultado\n",
    "    print(f\"{pal}: {cont}\")"
   ]
  },
  {
   "cell_type": "markdown",
   "id": "9162b161-483c-41a7-a14e-e2b117a93e60",
   "metadata": {},
   "source": [
    "3. Dado el siguiente diccionario con información del precio de diferentes productos por\n",
    "día.:\n",
    "precio_origen = {\n",
    "\"cebolla\": [30.3, 20.3, 25.9, 39.0], # céntimos/kg\n",
    "\"patata\":[0.33, 0.43, 0.34, 0.12], # euro/kg\n",
    "\"naranja\":[0.45, 0.56, 0.38, 0.43] # euro/kg\n",
    "}\n",
    "¿Cuál es el precio máximo de cada producto? ¿Cuál es el producto más caro?¿Qué día son más caras las naranjas?"
   ]
  },
  {
   "cell_type": "code",
   "execution_count": 16,
   "id": "feef03b1-16c4-4d62-a5f0-186361d40255",
   "metadata": {},
   "outputs": [
    {
     "name": "stdout",
     "output_type": "stream",
     "text": [
      "Precio máximo de cada producto: {'cebolla': 0.39, 'patata': 0.43, 'naranja': 0.56}\n",
      "El dia con el precio máximo de las naranjas es dia 1\n",
      "El producto más caro de todos es: naranja con un precio de: 0.56 euros/kg\n"
     ]
    }
   ],
   "source": [
    "precio_origen = {\n",
    "\"cebolla\": [30.3, 20.3, 25.9, 39.0], # céntimos/kg\n",
    "\"patata\":[0.33, 0.43, 0.34, 0.12], # euro/kg\n",
    "\"naranja\":[0.45, 0.56, 0.38, 0.43] # euro/kg\n",
    "}\n",
    "precio_cebolla=[]\n",
    "for precio in precio_origen[\"cebolla\"]:\n",
    "    precio_cebolla.append(precio/100) ##Guardamos en la lista el valor de la posicion del indice dividida entre 100 para convertirlo a euros\n",
    "precio_origen[\"cebolla\"]=precio_cebolla ##Modificamos los valores iniciales del diccionario\n",
    "\n",
    "\n",
    "\n",
    "precio_maximo={} ##Creamos un nuevo diccionario con los precios maximos de cada producto\n",
    "precio_mas_caro = 0 ##Suponemos que el precio minimo no puede ser inferior a cero\n",
    "producto_mas_caro = \"\" ##Nombre del producto mas caro para un precio de 0\n",
    "\n",
    "for producto in precio_origen:\n",
    "    precios=precio_origen[producto]   ##Guardamos en una lista los precios de cada producto\n",
    "    max_precio=max(precios)           ##Buscamos el percio mayor en cada uno de los productos \n",
    "    precio_maximo[producto]=max_precio ##Asignamos el precio maximo al nuevo diccionario\n",
    "    for precio in precios:            ## Verifica si este precio es mayor que el precio_mas_caro actual\n",
    "        if precio > precio_mas_caro:\n",
    "            precio_mas_caro = precio\n",
    "            producto_mas_caro = producto\n",
    "\n",
    "print(\"Precio máximo de cada producto:\", precio_maximo)\n",
    "\n",
    "precios_naranja=precio_origen[\"naranja\"] ##Creamos una lista con los valores de precios\n",
    "dia_mas_caro_naranja=precios_naranja.index(max(precios_naranja)) ##Obtenemos el indice del valor mas caro de la lista\n",
    "\n",
    "print(\"El dia con el precio máximo de las naranjas es dia\", dia_mas_caro_naranja)\n",
    "print(\"El producto más caro de todos es:\", producto_mas_caro, \"con un precio de:\", precio_mas_caro, \"euros/kg\")"
   ]
  },
  {
   "cell_type": "markdown",
   "id": "68a5fd7c-44f4-476f-ae8f-63df029590bc",
   "metadata": {},
   "source": [
    "Una empresa tiene un inventario de productos con diferentes categorías, y cada producto\n",
    "tiene un precio y una cantidad en stock. El objetivo es gestionar el inventario de forma\n",
    "eficiente. Instrucciones:\n",
    "1. Crea un diccionario donde la clave sea el nombre de una categoría de producto y\n",
    "el valor sea una lista de tuplas. Cada tupla contendra el nombre del producto, el\n",
    "precio y la cantidad en stock.\n",
    "2. Crea una función que calcule el valor total de inventario por categoría (precio por\n",
    "cantidad para cada producto).\n",
    "3. Muestra la categoría que tiene el valor total más alto en inventario\n",
    "4. Añade una opción para actualizar el stock de un producto en una categoría específica."
   ]
  },
  {
   "cell_type": "code",
   "execution_count": null,
   "id": "bcfb6fbe-75ee-401b-b7ea-3a75276b27b6",
   "metadata": {},
   "outputs": [],
   "source": [
    "\n",
    "inventario = { ##Inventario tienda de bicicletas\n",
    "    \"Electrónica\": [\n",
    "        (\"Garmin Forerunner 945\", 450, 2),   # (nombre del producto, precio, cantidad en stock)\n",
    "        (\"Garmin Edge 1050\", 685, 3),\n",
    "        (\"Rodillo Wahoo\", 540, 5)\n",
    "    ],\n",
    "    \"Alimentación\": [\n",
    "        (\"Geles\", 3.5, 100),\n",
    "        (\"Barritas\", 2, 150),\n",
    "        (\"Isotonico\", 20, 25),\n",
    "        (\"Energy drink\", 30, 10),\n",
    "        (\"Revorey drink\", 25, 15)\n",
    "    ],\n",
    "    \"Ropa\": [\n",
    "        (\"Maillot\", 35, 40),\n",
    "        (\"Cullotte\", 55, 30),\n",
    "        (\"Zapatos\", 50, 20)\n",
    "    ],\n",
    "    \"Bicicletas\": [\n",
    "        (\"Colnago C68 Shimano Dura Ace\", 16000, 1),\n",
    "        (\"Trek Madone SL8 Shimano Ultegra Di\", 9000, 25),\n",
    "        (\"Cube Attain Shimano 105\", 1650, 5)\n",
    "    ]\n",
    "}\n",
    "\n",
    "def calcular_valor_inventario(inventario):\n",
    "   \n",
    "    valor_por_categoria = {}  ## Crear un diccionario para almacenar el valor total por categoría\n",
    "\n",
    "    for categoria, productos in inventario.items():  ## Recorrer cada categoría en el inventario\n",
    "        total_categoria = 0  ## Inicializar esta categoría\n",
    "        for producto in productos: ## Recorrer cada producto en la categoría\n",
    "            nombre, precio, cantidad = producto  # Desempaquetar la tupla\n",
    "            total_categoria += precio * cantidad  # Calcular el total por producto\n",
    "        # Almacenar el total en el diccionario\n",
    "        valor_por_categoria[categoria] = total_categoria\n",
    "\n",
    "    return valor_por_categoria\n"
   ]
  }
 ],
 "metadata": {
  "kernelspec": {
   "display_name": "Python 3 (ipykernel)",
   "language": "python",
   "name": "python3"
  },
  "language_info": {
   "codemirror_mode": {
    "name": "ipython",
    "version": 3
   },
   "file_extension": ".py",
   "mimetype": "text/x-python",
   "name": "python",
   "nbconvert_exporter": "python",
   "pygments_lexer": "ipython3",
   "version": "3.13.0"
  }
 },
 "nbformat": 4,
 "nbformat_minor": 5
}
